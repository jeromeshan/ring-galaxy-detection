{
 "cells": [
  {
   "cell_type": "code",
   "execution_count": 1,
   "id": "928e3236-6838-4afe-b04a-9881845e113e",
   "metadata": {},
   "outputs": [],
   "source": [
    "import pandas as pd\n",
    "import numpy as np\n",
    "pd.options.display.max_columns = None\n"
   ]
  },
  {
   "cell_type": "code",
   "execution_count": 2,
   "id": "92979897-afb3-4a54-9b35-41412cd1ebd2",
   "metadata": {},
   "outputs": [],
   "source": [
    "from galaxy_datasets import gz2,gz_decals_5  # or gz_hubble, gz_candels, ...\n",
    "\n",
    "gz2_catalog_train, _ = gz2(\n",
    "    root='data/gz2',\n",
    "    train=True,\n",
    "    download=False\n",
    ")\n",
    "\n",
    "gz2_catalog_test, _ = gz2(\n",
    "    root='data/gz2',\n",
    "    train=False,\n",
    "    download=False\n",
    ")\n",
    "\n",
    "gzd5_catalog_train, _ = gz_decals_5(\n",
    "    root='data/gzd5',\n",
    "    train=True,\n",
    "    download=False\n",
    ")\n",
    "\n",
    "gzd5_catalog_test, _ = gz_decals_5(\n",
    "    root='data/gzd5',\n",
    "    train=False,\n",
    "    download=False\n",
    ")"
   ]
  },
  {
   "cell_type": "code",
   "execution_count": 209,
   "id": "f2dece7c-88e7-4a3d-92a4-7020aa99b4a8",
   "metadata": {},
   "outputs": [
    {
     "name": "stdout",
     "output_type": "stream",
     "text": [
      "source:  3962\n",
      "parsed:  3960\n",
      "found in hyperleda:  3727\n"
     ]
    }
   ],
   "source": [
    "# buta parsing https://oup.silverchair-cdn.com/oup/backfile/Content_public/Journal/mnras/471/4/10.1093_mnras_stx1829/1/stx1829_Supp.zip?Expires=1714517667&Signature=Rxbs5olh38b8ZQuHpIO5wzvbC0pYPAgTV6cjs094XQ46xNQYrwEBeFRnM2j4075C-8fb2QzNZ2DxVvzVzpqwSip~qThZNQ7McML2XBAEEhPSKqjYEBq6reaT6fVoibyA3y2PA2~-kg3~Gd5fuTIh~sCgRKA~adjGDdlgzrwhsGsRgIpGVU5zTFIW9y~Fp2NAqkvAngvLZmcOrLiGZ-m21HtgEMTaFQf0tXaNRxz9hK08hcU7hm6YVJwG8Bj7kjgWlZLqEeWm6t6FjjRRBrbpE3827VmO2JQcoavHODbBTPz33OVORetuDIIFy53IsIPCYtkzl9NYZg921XdNteiyMQ__&Key-Pair-Id=APKAIE5G5CRDK6RD3PGA\n",
    "galaxy_list = []\n",
    "\n",
    "f = open(\"buta_list.txt\", \"r\")\n",
    "i = 1\n",
    "for line in f:\n",
    "    line = line.strip()\n",
    "    if(len(line)>0):\n",
    "        if (line[0].isupper()):\n",
    "            splitted = [s.strip() for s in line.split('&')] \n",
    "            if(len(splitted)>1):\n",
    "                if(splitted[0] not in ('Other name','Other')):\n",
    "                    g_name = splitted[0]\n",
    "                    if('.' not in g_name and g_name[0]=='J'):\n",
    "                        parts = g_name.split('+')\n",
    "                        if len(parts) == 2:\n",
    "                            g_name = parts[0][:7] + '.' + parts[0][7:] + '+' + parts[1][:6] + '.' + parts[1][6:]\n",
    "                        \n",
    "                    galaxy_list.append([g_name,splitted[1],splitted[2],i])\n",
    "\n",
    "    i+=1\n",
    "\n",
    "galaxy_df = pd.DataFrame(galaxy_list, columns = ['name','pgc' ,'img_name','row_txt']) \n",
    "galaxy_df.img_name = galaxy_df.img_name.astype(int)\n",
    "hyperleda = pd.read_csv('hyperleda.txt')\n",
    "print('source: ', 3962)\n",
    "print('parsed: ',len(galaxy_df))\n",
    "print('found in hyperleda: ',len(hyperleda)) #found in hyperleda base\n",
    "\n"
   ]
  },
  {
   "cell_type": "code",
   "execution_count": 223,
   "id": "98c0a3ff-0abf-4e6e-abcf-39bd8f261663",
   "metadata": {},
   "outputs": [],
   "source": [
    "gz2_zenodo = pd.read_csv('data/gz2-zenodo/gz2_filename_mapping.csv') #https://zenodo.org/records/3565489#.Y3vFKS-l0eY\n",
    "gz2_zenodo_rings = gz2_zenodo.merge(galaxy_df, left_on ='asset_id', right_on = 'img_name')\n",
    "gz2_zenodo_rings.to_csv('data/target-mining/gz2_zenodo_rings.csv',index = False)"
   ]
  },
  {
   "cell_type": "code",
   "execution_count": 237,
   "id": "c6325168-e9d8-4e10-b40d-3406e385e2e8",
   "metadata": {},
   "outputs": [],
   "source": [
    "#https://github.com/mwalmsley/galaxy-datasets/tree/main\n",
    "gz2_train_iauname = gz2_catalog_train.merge(gz2_zenodo_rings, left_on = 'id_str', right_on = 'objid' )\n",
    "gz2_test_iauname = gz2_catalog_test.merge(gz2_zenodo_rings, left_on = 'id_str', right_on = 'objid' )\n",
    "gz2_rings = pd.concat([gz2_train_iauname,gz2_test_iauname])\n",
    "gz2_rings.to_csv('data/target-mining/gz2_rings.csv',index = False)"
   ]
  },
  {
   "cell_type": "code",
   "execution_count": 241,
   "id": "ff1d9f59-74a3-4e4b-a315-8aa4cec1e397",
   "metadata": {},
   "outputs": [],
   "source": [
    "gzd5_train_iauname = gzd5_catalog_train.merge(gz2_rings, on = 'iauname' )\n",
    "gzd5_test_iauname = gzd5_catalog_test.merge(gz2_rings, on = 'iauname' )\n",
    "gzd5_rings = pd.concat([gzd5_train_iauname,gzd5_test_iauname])\n",
    "gzd5_rings.to_csv('data/target-mining/gzd5_rings.csv',index = False)"
   ]
  },
  {
   "cell_type": "code",
   "execution_count": null,
   "id": "768d611e-20b5-4b7b-88cf-b57f1ae12a63",
   "metadata": {},
   "outputs": [],
   "source": []
  },
  {
   "cell_type": "code",
   "execution_count": 3,
   "id": "a7e37033-77f7-4c4f-8018-66d13cde7aa4",
   "metadata": {},
   "outputs": [
    {
     "name": "stdout",
     "output_type": "stream",
     "text": [
      "i386\n"
     ]
    }
   ],
   "source": [
    "import platform\n",
    "\n",
    "print(platform.processor())"
   ]
  },
  {
   "cell_type": "code",
   "execution_count": 4,
   "id": "7defceba-abee-47b6-bcdd-d7598043d7a9",
   "metadata": {},
   "outputs": [
    {
     "ename": "NameError",
     "evalue": "name 'gzd5_rings' is not defined",
     "output_type": "error",
     "traceback": [
      "\u001b[0;31m---------------------------------------------------------------------------\u001b[0m",
      "\u001b[0;31mNameError\u001b[0m                                 Traceback (most recent call last)",
      "Input \u001b[0;32mIn [4]\u001b[0m, in \u001b[0;36m<cell line: 1>\u001b[0;34m()\u001b[0m\n\u001b[0;32m----> 1\u001b[0m \u001b[43mgzd5_rings\u001b[49m\u001b[38;5;241m.\u001b[39mshape\n",
      "\u001b[0;31mNameError\u001b[0m: name 'gzd5_rings' is not defined"
     ]
    }
   ],
   "source": [
    "gzd5_rings.shape"
   ]
  },
  {
   "cell_type": "code",
   "execution_count": null,
   "id": "546a24c9-b9da-4f07-b80c-77821429e61b",
   "metadata": {},
   "outputs": [],
   "source": []
  }
 ],
 "metadata": {
  "kernelspec": {
   "display_name": "py39",
   "language": "python",
   "name": "py39"
  },
  "language_info": {
   "codemirror_mode": {
    "name": "ipython",
    "version": 3
   },
   "file_extension": ".py",
   "mimetype": "text/x-python",
   "name": "python",
   "nbconvert_exporter": "python",
   "pygments_lexer": "ipython3",
   "version": "3.9.18"
  }
 },
 "nbformat": 4,
 "nbformat_minor": 5
}
